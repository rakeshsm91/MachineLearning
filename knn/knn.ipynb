{
 "cells": [
  {
   "cell_type": "markdown",
   "metadata": {},
   "source": [
    "# K-Nearest Neighbors Homework Solutions\n",
    "***\n",
    "**Name**: $<$Rakesh Shivanand Margoor$>$ \n",
    "***\n",
    "\n",
    "This assignment is due on Moodle by **5pm on Friday January 26th**. Submit only this Jupyter notebook to Moodle.  Do not compress it using tar, rar, zip, etc. Your solutions to analysis questions should be done in Markdown directly below the associated question.  Remember that you are encouraged to discuss the problems with your instructors and classmates, but **you must write all code and solutions on your own**.  For a refresher on the course **Collaboration Policy** click [here](https://github.com/chrisketelsen/CSCI5622-Machine-Learning/blob/master/resources/syllabus.md#collaboration-policy)\n",
    "\n"
   ]
  },
  {
   "cell_type": "markdown",
   "metadata": {},
   "source": [
    "## Overview \n",
    "***\n",
    "\n",
    "\n",
    "In this homework you'll implement a K-Nearest Neighbor framework to take an image of a handwritten digit and predict which digit it corresponds to.  \n",
    "\n",
    "<br>\n",
    "\n",
    "![Samples of Handwritten Digits](wide_mnist.png \"MNIST Digits\")\n",
    "\n",
    "\n",
    "<br>\n",
    "\n",
    "This homework is designed to be pretty easy. If you're spending a ton of time on this assignment, then you are either:\n",
    "\n",
    "- not prepared to take this course (i.e., if you're struggling with Python)\n",
    "- seriously over-thinking the assignment\n",
    "- trying to implement too much of KNN from scratch\n",
    "\n",
    "\n",
    "Most of this assignment will be done by calling libraries that are already implemented for you. If you are implementing $n$-dimensional search or your own distance metrics, you are generating extra work for yourself and making yourself vulnerable to errors. \n",
    "\n",
    "Here are the rules: \n",
    "\n",
    "- Do **NOT** load or use any Python packages that are not available in Anaconda 3.6. \n",
    "- Some problems with code may be autograded.  If we provide a function or class API **do not** change it.\n",
    "- Do not change the location of the data or data directory.  Use only relative paths to access the data. "
   ]
  },
  {
   "cell_type": "code",
   "execution_count": 182,
   "metadata": {
    "collapsed": true
   },
   "outputs": [],
   "source": [
    "import numpy as np\n",
    "import matplotlib.pylab as plt\n",
    "import collections\n",
    "from collections import Counter\n",
    "%matplotlib inline "
   ]
  },
  {
   "cell_type": "markdown",
   "metadata": {},
   "source": [
    "### [5 points] Problem 1\n",
    "***\n",
    "\n",
    "The class below will load and store the MNIST data.  Load the data and then report: \n",
    "- The number of examples in the training set \n",
    "- The number of examples in the test set \n",
    "- The number of pixels in each image. "
   ]
  },
  {
   "cell_type": "code",
   "execution_count": 183,
   "metadata": {
    "collapsed": true
   },
   "outputs": [],
   "source": [
    "class Numbers:\n",
    "    \"\"\"\n",
    "    Class to store MNIST data\n",
    "    \"\"\"\n",
    "    def __init__(self, location):\n",
    "\n",
    "        import pickle, gzip\n",
    "\n",
    "        # load data from file \n",
    "        f = gzip.open(location, 'rb')\n",
    "        train_set, valid_set, test_set = pickle.load(f)\n",
    "        f.close()\n",
    "\n",
    "        # store for use later  \n",
    "        self.train_x, self.train_y = train_set\n",
    "        self.test_x, self.test_y = valid_set"
   ]
  },
  {
   "cell_type": "code",
   "execution_count": 184,
   "metadata": {},
   "outputs": [
    {
     "name": "stdout",
     "output_type": "stream",
     "text": [
      "The number of examples in the training set =  50000\n",
      "The number of examples in the test set =  10000\n",
      "The number of pixels in each image = 784\n"
     ]
    }
   ],
   "source": [
    "data = Numbers(\"../data/mnist.pklz\")\n",
    "print(\"The number of examples in the training set = \", len(data.train_y))\n",
    "print(\"The number of examples in the test set = \", len(data.test_x))\n",
    "print(\"The number of pixels in each image =\", len(data.test_x[0]))"
   ]
  },
  {
   "cell_type": "markdown",
   "metadata": {},
   "source": [
    "### [30 points] Problem 2\n",
    "***\n",
    "\n",
    "The class below will perform K-Nearest Neighbor classification on our handwritten digit data. Your tasks are as follows:   \n",
    "\n",
    "1. Modify the `label_counts` function to return a dictionary of frequencies corresponding to each label in the training set. \n",
    "1. Modify the `majority` function so that it returns the _label_ that appears most frequently in the $K$-nearest neighbors of the query point.  In the case that the maximum frequency occurs for two or more labels, return the one that appears most frequently in the entire training set. In the case that there is still a tie, break the tie in any way that you choose. \n",
    "1. Modify the `classify` function so that it finds the _indices_ of the $K$ closest training examples to the query point and then calls the `majority` function to return the predicted label. Almost all of the heavy lifting here will be done by the BallTree object from `sklearn.neighbors`, so you'll want to start out by reading the [documentation](http://scikit-learn.org/stable/modules/generated/sklearn.neighbors.BallTree.html).  \n",
    "1. Modify the `confusion_matrix` function to classify examples and record the results in a confusion matrix. You should construct the confusion matrix on your own.  Don't call any additional functions from sklearn to do it for you.\n",
    "\n",
    "The class Knearest also implements an `accuracy` function which you will use in **Problem 3**.  You should not have to modify this function. \n",
    "\n",
    "We've given you unit tests down below based on the simple example worked out in lecture.  At first your code will fail all of them.  Do not move on to **Problem 3** until your code passes all of the unit tests. In addition, passing the unit tests does not guarantee that your implementation is robust and that you'll earn full points on this problem.  You should be designing your own additional tests as well. "
   ]
  },
  {
   "cell_type": "code",
   "execution_count": 185,
   "metadata": {
    "collapsed": true
   },
   "outputs": [],
   "source": [
    "class Knearest:\n",
    "    \"\"\"\n",
    "    kNN classifier\n",
    "    \"\"\"\n",
    "\n",
    "    def __init__(self, X, y, k=5):\n",
    "        \"\"\"\n",
    "        Creates a kNN instance\n",
    "\n",
    "        :param x: Training data input\n",
    "        :param y: Training data output\n",
    "        :param k: The number of nearest points to consider in classification\n",
    "        \"\"\"\n",
    "        \n",
    "        from sklearn.neighbors import BallTree\n",
    "\n",
    "        self._kdtree = BallTree(X)\n",
    "        self._y = y\n",
    "        self._k = k\n",
    "        self._counts = self.label_counts()\n",
    "        \n",
    "    def label_counts(self):\n",
    "        \"\"\"\n",
    "        Given the training labels, return a dictionary d where d[y] is  \n",
    "        the number of times that label y appears in the training set. \n",
    "        \"\"\"\n",
    "        d = collections.Counter(self._y)\n",
    "        return d\n",
    "\n",
    "    def majority(self, neighbor_indices):\n",
    "        \"\"\"\n",
    "        Given the indices of training examples, return the majority label. Break ties \n",
    "        by choosing the tied label that appears most often in the training data. \n",
    "\n",
    "        :param neighbor_indices: The indices of the k nearest neighbors\n",
    "        \"\"\"\n",
    "        assert len(neighbor_indices) == self._k, \"Did not get k neighbor indices\"\n",
    "        \n",
    "        freq_indices = {}\n",
    "        \n",
    "        for index in neighbor_indices:\n",
    "            k = int(self._y[index])\n",
    "            if k in freq_indices:\n",
    "                freq_indices[k] += 1\n",
    "            else:\n",
    "                freq_indices[k] = 1\n",
    "        \n",
    "        max_value = max(freq_indices.values())  \n",
    "        max_labels = [k for k, v in freq_indices.items() if v == max_value]\n",
    "        max_occurence = -1\n",
    "        for label in max_labels:\n",
    "            if max_occurence < self._counts[label]:\n",
    "                choosed_label = label\n",
    "                max_occurence =  self._counts[label]\n",
    "                \n",
    "            \n",
    "        return choosed_label\n",
    "    \n",
    "\n",
    "    def classify(self, example):\n",
    "        \"\"\"\n",
    "        Given an example, return the predicted label. \n",
    "\n",
    "        :param example: A representation of an example in the same\n",
    "        format as a row of the training data\n",
    "        \"\"\"            \n",
    "        dist, ind = self._kdtree.query(example.reshape(-1, len(example)), k=self._k)\n",
    "        return self.majority(ind[0])\n",
    "\n",
    "\n",
    "    def confusion_matrix(self, test_x, test_y):\n",
    "        \"\"\"\n",
    "        Given a matrix of test examples and labels, compute the confusion\n",
    "        matrix for the current classifier.  Should return a 2-dimensional\n",
    "        numpy array of ints, C, where C[ii,jj] is the number of times an \n",
    "        example with true label ii was labeled as jj.\n",
    "\n",
    "        :param test_x: test data \n",
    "        :param test_y: true test labels \n",
    "        \"\"\"\n",
    "        \n",
    "        C = np.zeros((10,10), dtype=int)\n",
    "        for xx, yy in zip(test_x, test_y):\n",
    "            C[xx][yy] += 1 \n",
    "        \n",
    "        return C \n",
    "            \n",
    "    @staticmethod\n",
    "    def accuracy(C):\n",
    "        \"\"\"\n",
    "        Given a confusion matrix C, compute the accuracy of the underlying classifier.\n",
    "        \n",
    "        :param C: a confusion matrix \n",
    "        \"\"\"\n",
    "        \n",
    "        return np.sum(C.diagonal()) / C.sum()\n",
    "        "
   ]
  },
  {
   "cell_type": "markdown",
   "metadata": {},
   "source": [
    "Here are the unit tests.  You don't need to modify them.  Simply execute the cell and observe the output. "
   ]
  },
  {
   "cell_type": "code",
   "execution_count": 187,
   "metadata": {
    "scrolled": true
   },
   "outputs": [
    {
     "name": "stderr",
     "output_type": "stream",
     "text": [
      "....\n",
      "----------------------------------------------------------------------\n",
      "Ran 4 tests in 0.011s\n",
      "\n",
      "OK\n"
     ]
    },
    {
     "data": {
      "text/plain": [
       "<unittest.runner.TextTestResult run=4 errors=0 failures=0>"
      ]
     },
     "execution_count": 187,
     "metadata": {},
     "output_type": "execute_result"
    }
   ],
   "source": [
    "import unittest\n",
    "\n",
    "class TestKnn(unittest.TestCase):\n",
    "    def setUp(self):\n",
    "        self.x = np.array([[2, 0], [4, 1], [6, 0], [1, 4], [2, 4], [2, 5], [4, 4], [0, 2], [3, 2], [4, 2], [5, 2], [5, 5]])\n",
    "        self.y = np.array([+1, +1, +1, +1, +1, +1, +1, -1, -1, -1, -1, -1])\n",
    "        self.knn = {}\n",
    "        for ii in [1, 2, 3]:\n",
    "            self.knn[ii] = Knearest(self.x, self.y, ii)\n",
    "\n",
    "        self.queries = np.array([[1, 5], [0, 3], [6, 4]])\n",
    "        \n",
    "    def test0(self):\n",
    "        \"\"\"\n",
    "        Test the label counter \n",
    "        \"\"\"\n",
    "        self.assertEqual(self.knn[1]._counts[-1], 5)\n",
    "        self.assertEqual(self.knn[1]._counts[1], 7)\n",
    "\n",
    "    def test1(self):\n",
    "        \"\"\"\n",
    "        Test 1NN\n",
    "        \"\"\"\n",
    "        self.assertEqual(self.knn[1].classify(self.queries[0]),  1)\n",
    "        self.assertEqual(self.knn[1].classify(self.queries[1]), -1)\n",
    "        self.assertEqual(self.knn[1].classify(self.queries[2]), -1)\n",
    "\n",
    "    def test2(self):\n",
    "        \"\"\"\n",
    "        Test 2NN\n",
    "        \"\"\"\n",
    "        self.assertEqual(self.knn[2].classify(self.queries[0]),  1)\n",
    "        self.assertEqual(self.knn[2].classify(self.queries[1]),  1)\n",
    "        self.assertEqual(self.knn[2].classify(self.queries[2]),  1)\n",
    "\n",
    "    def test3(self):\n",
    "        \"\"\"\n",
    "        Test 3NN\n",
    "        \"\"\"\n",
    "        self.assertEqual(self.knn[3].classify(self.queries[0]),  1)\n",
    "        self.assertEqual(self.knn[3].classify(self.queries[1]),  1)\n",
    "        self.assertEqual(self.knn[3].classify(self.queries[2]), -1)\n",
    "        \n",
    "tests = TestKnn()\n",
    "tests_to_run = unittest.TestLoader().loadTestsFromModule(tests)\n",
    "unittest.TextTestRunner().run(tests_to_run)"
   ]
  },
  {
   "cell_type": "markdown",
   "metadata": {},
   "source": [
    "### [15 points] Problem 3\n",
    "***\n",
    "\n",
    "In this problem you'll explore the performance of the classifier you've written.  A word of advice: don't use the entire training set, especially at first.  We'll be using this dataset again later on with techniques that scale better.    "
   ]
  },
  {
   "cell_type": "markdown",
   "metadata": {},
   "source": [
    "**Part A**: Explore the relationship between the number of training examples and accuracy on the test set. Comment on your findings and support your observations with some kind of graphic. "
   ]
  },
  {
   "cell_type": "markdown",
   "metadata": {
    "collapsed": true
   },
   "source": [
    "The accuracy increases with increase in the number of training examples. \n",
    "The increment is very high from 100s to 1000s training samples, \n",
    "The accuracy slowly increases from samples above 10000 as most training becomes repetitive i.e the features become redundant.\n",
    "Below graph shows the relationship between training samples and the accuracy obtained"
   ]
  },
  {
   "cell_type": "code",
   "execution_count": null,
   "metadata": {
    "collapsed": true
   },
   "outputs": [],
   "source": [
    "training_samples = [1000, 2000, 3000, 4000,5000, 6000, 7000, 8000, 9000, 10000]\n",
    "accs=[]\n",
    "for samples in training_samples:\n",
    "    obj = Knearest(data.train_x[:samples], data.train_y[:samples])\n",
    "    yout = np.zeros(len(data.test_x),  dtype=int)\n",
    "    for i in range(len(data.test_x)):\n",
    "        yout[i] = obj.classify(data.test_x[i])\n",
    "\n",
    "    C = obj.confusion_matrix(yout,data.test_y)\n",
    "    acc = Knearest.accuracy(C)\n",
    "    accs.append(acc)\n",
    "\n",
    "plot_data = {}\n",
    "for i in range(len(training_samples)):\n",
    "    plot_data[training_samples[i]] = accs[i]\n",
    "\n",
    "plt.bar(np.arange(len(plot_data)), plot_data.values(), align=\"center\", width=0.2, color='g')\n",
    "plt.xticks(range(len(plot_data)), list(plot_data.keys()))\n",
    "plt.xlabel(\"Training samples\")\n",
    "plt.ylabel(\"Accuracy\")\n",
    "plt.show()"
   ]
  },
  {
   "cell_type": "markdown",
   "metadata": {},
   "source": [
    "**Part B**: Explore the relationship between the number of nearest neighbors and accuracy on the test set. Comment on your findings and support your observations with some kind of graphic. "
   ]
  },
  {
   "cell_type": "markdown",
   "metadata": {},
   "source": [
    "The above code plots the accuracy with k value from 1 to 10. A high accuracy is obtained when k is 3 and 5. \n",
    "The variation of accuracy with respect to k is not linear. \n",
    "The accuracy depends on how well the boundaries are formed to classify the nearest k neighbors and hence a linear direct relationship does not exist between k value and the accuracy"
   ]
  },
  {
   "cell_type": "code",
   "execution_count": 179,
   "metadata": {},
   "outputs": [
    {
     "name": "stdout",
     "output_type": "stream",
     "text": [
      "[0.95130000000000003, 0.93840000000000001, 0.95279999999999998, 0.94969999999999999, 0.95109999999999995, 0.94820000000000004, 0.94750000000000001, 0.94699999999999995, 0.94550000000000001, 0.94450000000000001]\n"
     ]
    },
    {
     "data": {
      "image/png": "[encoded data removed]",
      "text/plain": [
       "<matplotlib.figure.Figure at 0x1f4c03e9e48>"
      ]
     },
     "metadata": {},
     "output_type": "display_data"
    }
   ],
   "source": [
    "k_samples = [1, 2, 3, 4, 5, 6, 7, 8, 9, 10]\n",
    "accs=[]\n",
    "for samples in k_samples:\n",
    "    obj = Knearest(data.train_x[:10000], data.train_y[:10000], samples)\n",
    "    yout = np.zeros(len(data.test_x),  dtype=int)\n",
    "    for i in range(len(data.test_x)):\n",
    "        yout[i] = obj.classify(data.test_x[i])\n",
    "\n",
    "    C = obj.confusion_matrix(yout,data.test_y)\n",
    "    acc = Knearest.accuracy(C)\n",
    "    accs.append(acc)\n",
    "plot_data = {}\n",
    "for i in range(len(k_samples)):\n",
    "    plot_data[k_samples[i]] = accs[i]\n",
    "\n",
    "plt.bar(np.arange(len(plot_data)), plot_data.values(), align=\"center\", width=0.2, color='g')\n",
    "plt.xticks(range(len(plot_data)), list(plot_data.keys()))\n",
    "plt.xlabel(\"k values\")\n",
    "plt.ylabel(\"Accuracy\")\n",
    "plt.show()"
   ]
  },
  {
   "cell_type": "markdown",
   "metadata": {},
   "source": []
  },
  {
   "cell_type": "markdown",
   "metadata": {},
   "source": [
    "**Part C**: Which numbers get confused with each other the most easily?  Use the confusion_matrix function that you wrote above to support your conclusion.  Then use the `view_digit` function given below to plot a few examples of misclassified digits and discuss possible reasons for the misclassifications.  (Investigating misclassified examples is called **error analysis** and is an important step in the development of any classification technique).  "
   ]
  },
  {
   "cell_type": "code",
   "execution_count": 162,
   "metadata": {},
   "outputs": [
    {
     "name": "stdout",
     "output_type": "stream",
     "text": [
      "true label: 5\n"
     ]
    },
    {
     "data": {
      "image/png": "[encoded data removed]",
      "text/plain": [
       "<matplotlib.figure.Figure at 0x1f4bda21080>"
      ]
     },
     "metadata": {},
     "output_type": "display_data"
    }
   ],
   "source": [
    "def view_digit(example, label=None):\n",
    "    if label: print(\"true label: {:d}\".format(label))\n",
    "    plt.imshow(example.reshape(28,28), cmap='gray');\n",
    "    \n",
    "view_digit(data.train_x[0,:], data.train_y[0])"
   ]
  },
  {
   "cell_type": "markdown",
   "metadata": {
    "collapsed": true
   },
   "source": [
    "The confusion matrix obtained for k=5 and 10000 training samples is shown below:\n",
    "\n",
    "[[ 979    0    3    1    0    5    4    0    8    7]\n",
    " [   1 1060   17    1   18    8    1   17   27    6]\n",
    " [   2    3  926    3    0    1    0    2    3    1]\n",
    " [   0    0    8  998    0   26    0    0   26   11]\n",
    " [   1    0    0    0  908    5    0    3    3   15]\n",
    " [   1    0    0    5    0  833    2    0   11    3]\n",
    " [   3    0    4    0    2   22  959    0    6    0]\n",
    " [   3    1   27    7    5    2    0 1059    8   23]\n",
    " [   1    0    2    9    0    5    1    0  894    0]\n",
    " [   0    0    3    6   50    8    0    9   23  895]]\n",
    " \n",
    " As we can see , 50 number of times 9 is classified as 4, 27 times 7  is classified as 3 and 27 times 1 is classified as 8, 23 times 9 is classified as 8. \n",
    "Using the below view_digit function, the reason behind several mismatch are due to the identical strokes between the two digits. \n",
    "For example the value 3 and 9 have very common strokes. The same goes with 4,9 and 7,1. There were several 8's which were predicted as 1, this is due to the fact that the training examples have certain 8s which are very thin and visually look like thick 1. "
   ]
  },
  {
   "cell_type": "code",
   "execution_count": 174,
   "metadata": {},
   "outputs": [
    {
     "name": "stdout",
     "output_type": "stream",
     "text": [
      "Predicted val: 3\n",
      "true label: 9\n"
     ]
    },
    {
     "data": {
      "image/png": "[encoded data removed]",
      "text/plain": [
       "<matplotlib.figure.Figure at 0x1f4c0322940>"
      ]
     },
     "metadata": {},
     "output_type": "display_data"
    }
   ],
   "source": [
    "obj = Knearest(data.train_x[:1000], data.train_y[:1000],5)\n",
    "yout = np.zeros(len(data.test_x),  dtype=int)\n",
    "count =2\n",
    "for i in range(len(data.test_x)):\n",
    "    yout[i] = obj.classify(data.test_x[i])\n",
    "    if data.test_y[i] == 9:\n",
    "        if (yout[i] != data.test_y[i]):\n",
    "            print(\"Predicted val:\", yout[i])\n",
    "            view_digit(data.test_x[i,:], data.test_y[i])\n",
    "            break;\n",
    "for i in range(len(data.test_x)):\n",
    "    yout[i] = obj.classify(data.test_x[i])\n",
    "    if data.test_y[i] == 7:\n",
    "        if (yout[i] != data.test_y[i]):\n",
    "            print(\"Predicted val:\", yout[i])\n",
    "            view_digit(data.test_x[i,:], data.test_y[i])\n",
    "            break;\n",
    "        \n",
    "        "
   ]
  },
  {
   "cell_type": "markdown",
   "metadata": {},
   "source": []
  }
 ],
 "metadata": {
  "kernelspec": {
   "display_name": "Python 3",
   "language": "python",
   "name": "python3"
  },
  "language_info": {
   "codemirror_mode": {
    "name": "ipython",
    "version": 3
   },
   "file_extension": ".py",
   "mimetype": "text/x-python",
   "name": "python",
   "nbconvert_exporter": "python",
   "pygments_lexer": "ipython3",
   "version": "3.6.3"
  }
 },
 "nbformat": 4,
 "nbformat_minor": 2
}
