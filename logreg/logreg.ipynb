{
 "cells": [
  {
   "cell_type": "markdown",
   "metadata": {},
   "source": [
    "# Logistic Regression and SGD Homework \n",
    "***\n",
    "**Name**: $<$Rakesh Shivanand Margoor$>$ \n",
    "***\n",
    "\n",
    "This assignment is due on Moodle by **5pm on Friday February 9th**. Submit only this Jupyter notebook to Moodle.  Do not compress it using tar, rar, zip, etc. Your solutions to analysis questions should be done in Markdown directly below the associated question.  Remember that you are encouraged to discuss the problems with your instructors and classmates, but **you must write all code and solutions on your own**.  For a refresher on the course **Collaboration Policy** click [here](https://github.com/chrisketelsen/CSCI5622-Machine-Learning/blob/master/resources/syllabus.md#collaboration-policy)\n",
    "\n"
   ]
  },
  {
   "cell_type": "markdown",
   "metadata": {},
   "source": [
    "## Overview \n",
    "***\n",
    "\n",
    "\n",
    "In this homework you'll implement stochastic gradient ascent for logistic regression and you'll apply it to the task of determining whether documents are talking about automobiles or motorcycles.\n",
    "\n",
    "<br>\n",
    "\n",
    "![autos_motorcycles](autos_motorcycles.jpg \"A car and a motorcycle\")\n",
    "\n",
    "\n",
    "<br>\n",
    "\n",
    "You should not use any libraries that implement any of the functionality of logistic regression for this assignment; logistic regression is implemented in Scikit-Learn, but you should do everything by hand now. You'll be able to use library implementations of logistic regression in the future.\n",
    "\n",
    "Here are the rules: \n",
    "\n",
    "- Do **NOT** load or use any Python packages that are not available in Anaconda 3.6. \n",
    "- Some problems with code may be autograded.  If we provide a function or class API **do not** change it.\n",
    "- Do not change the location of the data or data directory.  Use only relative paths to access the data. "
   ]
  },
  {
   "cell_type": "code",
   "execution_count": 242,
   "metadata": {
    "collapsed": true
   },
   "outputs": [],
   "source": [
    "import numpy as np\n",
    "import matplotlib.pylab as plt\n",
    "import collections\n",
    "%matplotlib inline "
   ]
  },
  {
   "cell_type": "markdown",
   "metadata": {},
   "source": [
    "### [5 points] Problem 1: Loading and Exploring the Data\n",
    "***\n",
    "\n",
    "The `Example` class will be used to store the features and labels associated with a single training or test example.  The `read_data` function will read in the text data and split it into training and test sets.  \n",
    "\n",
    " Load the data and then do the following: \n",
    "- Report the number of words in the vocabulary \n",
    "- Explain how the code is creating features (i.e. what text model is being used). \n",
    "- Go into the raw text files in the data directory and figure out which label (0/1) refers to which class of document (automobiles or motorcycles)"
   ]
  },
  {
   "cell_type": "code",
   "execution_count": 243,
   "metadata": {
    "collapsed": true
   },
   "outputs": [],
   "source": [
    "kSEED = 1735\n",
    "kBIAS = \"BIAS_CONSTANT\"\n",
    "\n",
    "np.random.seed(kSEED)\n",
    "\n",
    "class Example:\n",
    "    \"\"\"\n",
    "    Class to represent a document example\n",
    "    \"\"\"\n",
    "    def __init__(self, label, words, vocab):\n",
    "        \"\"\"\n",
    "        Create a new example\n",
    "\n",
    "        :param label: The label (0 / 1) of the example\n",
    "        :param words: The words in a list of \"word:count\" format\n",
    "        :param vocab: The vocabulary to use as features (list)\n",
    "        \"\"\"\n",
    "        self.nonzero = {}\n",
    "        self.y = label\n",
    "        self.x = np.zeros(len(vocab))\n",
    "        #print(len(vocab))\n",
    "        for word, count in [x.split(\":\") for x in words]:\n",
    "            if word in vocab:\n",
    "                assert word != kBIAS, \"Bias can't actually appear in document\"\n",
    "                self.x[vocab.index(word)] += float(count)\n",
    "                self.nonzero[vocab.index(word)] = word\n",
    "        #print(self.x)\n",
    "        #print(self.nonzero)\n",
    "        self.x[0] = 1\n",
    "\n",
    "def read_dataset(positive, negative, vocab, train_frac=0.9):\n",
    "    \"\"\"\n",
    "    Reads in a text dataset with a given vocabulary\n",
    "\n",
    "    :param positive: Positive examples\n",
    "    :param negative: Negative examples\n",
    "    :param vocab: A list of vocabulary words\n",
    "    :param test_frac: How much of the data should be reserved for test\n",
    "    \"\"\"\n",
    "\n",
    "    vocab = [x.split(\"\\t\")[0] for x in open(vocab, 'r') if '\\t' in x]\n",
    "    #print(len(vocab))\n",
    "    #print(vocab)\n",
    "    assert vocab[0] == kBIAS, \\\n",
    "        \"First vocab word must be bias term (was %s)\" % vocab[0]\n",
    "\n",
    "    train_set = []\n",
    "    test_set = []\n",
    "    index = 0\n",
    "    for label, input in [(1, positive), (0, negative)]:\n",
    "        for line in open(input):\n",
    "            ex = Example(label, line.split(), vocab)\n",
    "            if np.random.random() <= train_frac:\n",
    "                train_set.append(ex)\n",
    "            else:\n",
    "                test_set.append(ex)\n",
    "\n",
    "    # Shuffle the data \n",
    "    np.random.shuffle(train_set)\n",
    "    np.random.shuffle(test_set)\n",
    "\n",
    "    return train_set, test_set, vocab"
   ]
  },
  {
   "cell_type": "code",
   "execution_count": 554,
   "metadata": {},
   "outputs": [],
   "source": [
    "pos_fname = \"../data/autos_motorcycles/positive\"\n",
    "neg_fname = \"../data/autos_motorcycles/negative\"\n",
    "voc_fname = \"../data/autos_motorcycles/vocab\"\n",
    "train_set, test_set, vocab = read_dataset(pos_fname, neg_fname, voc_fname)"
   ]
  },
  {
   "cell_type": "markdown",
   "metadata": {},
   "source": [
    "Number of words in the vocabulary: 5327\n",
    "Explain how the code is creating features (i.e. what text model is being used): Bag of words\n",
    "1 = motorcycles and 0 = automobiles"
   ]
  },
  {
   "cell_type": "markdown",
   "metadata": {},
   "source": [
    "### [25 points] Problem 2: Implementing SGD with Lazy Sparse Regularization\n",
    "***\n",
    "\n",
    "We've given you a class `LogReg` below which will train a logistic regression classifier to predict whether a document is talking about automobiles or motorcycles. \n",
    "\n",
    "**Part A**: In this problem you will modify the `sgd_update` function to perform **unregularized** stochastic gradient descent updates of the weights. Note that you should only update the weights for **non-zero** features, i.e. weights associated with words that appear in the current training example. The code below this cell demonstrates how to instantiate the class and train the classifier.   \n",
    "\n",
    "We've also given you unit tests in the next cell based on the simple example worked out in  the Lecture 4 in-class notebook.  At first your code will fail both of them. When your code is working you should pass tests called `test_unreg` and `test_learnrate`.  Do not move on to **Part A** until your code passes both of them. "
   ]
  },
  {
   "cell_type": "code",
   "execution_count": 610,
   "metadata": {},
   "outputs": [],
   "source": [
    "class LogReg:\n",
    "    def __init__(self, train_set, test_set, lam, eta=0.1):\n",
    "        \"\"\"\n",
    "        Create a logistic regression classifier\n",
    "\n",
    "        :param train_set: A set of training examples\n",
    "        :param test_set: A set of test examples \n",
    "        :param lam: Regularization parameter\n",
    "        :param eta: The learning rate to use \n",
    "        \"\"\"\n",
    "        \n",
    "        # Store training and test sets \n",
    "        self.train_set = train_set\n",
    "        self.test_set = test_set \n",
    "        \n",
    "        # Initialize vector of weights to zero  \n",
    "        self.w = np.zeros_like(train_set[0].x)\n",
    "        \n",
    "        # Store regularization parameter and eta function \n",
    "        self.lam = lam\n",
    "        self.eta = eta\n",
    "        \n",
    "        # Create dictionary for lazy-sparse regularization\n",
    "        self.last_update = dict()\n",
    "\n",
    "        # Make sure regularization parameter is not negative \n",
    "        assert self.lam>= 0, \"Regularization parameter must be non-negative\"\n",
    "        \n",
    "        # Empty lists to store NLL and accuracy on train and test sets \n",
    "        self.train_nll = []\n",
    "        self.test_nll = []\n",
    "        self.train_acc = []\n",
    "        self.test_acc = []\n",
    "        self.iterationdict =collections.defaultdict(lambda:0)\n",
    "        \n",
    "    def sigmoid(self,score, threshold=20.0):\n",
    "        \"\"\"\n",
    "        Prevent overflow of exp by capping activation at 20.\n",
    "        You do not need to change this function. \n",
    "\n",
    "        :param score: A real valued number to convert into a number between 0 and 1\n",
    "        \"\"\"\n",
    "\n",
    "        # if score > threshold, cap value at score \n",
    "        if abs(score) > threshold:\n",
    "            score = threshold * np.sign(score)\n",
    "\n",
    "        return 1.0 / (1.0 + np.exp(-score)) \n",
    "\n",
    "    def compute_progress(self, examples):\n",
    "        \"\"\"\n",
    "        Given a set of examples, compute the NLL and accuracy\n",
    "        You shouldn't need to change this function. \n",
    "\n",
    "        :param examples: The dataset to score\n",
    "        :return: A tuple of (log probability, accuracy)\n",
    "        \"\"\"\n",
    "\n",
    "        NLL = 0.0\n",
    "        num_correct = 0\n",
    "        for ex in examples:\n",
    "            # compute prob prediction\n",
    "            p = self.sigmoid(self.w.dot(ex.x))\n",
    "            # update negative log likelihood\n",
    "            NLL = NLL - np.log(p) if ex.y==1 else NLL - np.log(1.0-p)\n",
    "            # update number correct \n",
    "            num_correct += 1 if np.floor(p+.5)==ex.y else 0\n",
    "\n",
    "        return NLL, float(num_correct) / float(len(examples))\n",
    "    \n",
    "    def train(self, num_epochs=1, isVerbose=False, report_step=5):\n",
    "        \"\"\"\n",
    "        Train the logistic regression classifier on the training data \n",
    "\n",
    "        :param num_epochs: number of full passes over data to perform \n",
    "        :param isVerbose: boolean indicating whether to print progress\n",
    "        :param report_step: how many iterations between recording progress\n",
    "        \"\"\"\n",
    "        iteration = 0\n",
    "        # Perform an epoch \n",
    "        for pp in range(num_epochs):\n",
    "            # shuffle the data  \n",
    "            np.random.shuffle(self.train_set)\n",
    "            # loop over each training example\n",
    "            for ex in self.train_set:\n",
    "                # perform SGD update of weights \n",
    "                self.sgd_update(ex, iteration)\n",
    "                # record progress \n",
    "                if iteration % report_step == 1:\n",
    "                    train_nll, train_acc = self.compute_progress(self.train_set)\n",
    "                    test_nll, test_acc = self.compute_progress(self.test_set)\n",
    "                    self.train_nll.append(train_nll)\n",
    "                    self.test_nll.append(test_nll)\n",
    "                    self.train_acc.append(train_acc)\n",
    "                    self.test_acc.append(test_acc)\n",
    "                    if isVerbose:\n",
    "                        print(\"Update {: 5d}  TrnNLL {: 8.3f}  TstNLL {: 8.3f}  TrnA {:.3f}  TstA {:.3f}\"\n",
    "                             .format(iteration-1, train_nll, test_nll, train_acc, test_acc))\n",
    "                iteration += 1\n",
    "    \n",
    "    def sgd_update(self, train_example, iteration):\n",
    "        \"\"\"\n",
    "        Compute a stochastic gradient update to improve the NLL \n",
    "\n",
    "        :param train_example: The example to take the gradient with respect to\n",
    "        :param iteration: The current iteration (an integer)\n",
    "        \"\"\"\n",
    "       # print(train_example.x)\n",
    "        # TODO implement LSR updates of weights \n",
    "        muiix = 0\n",
    "        for w, x in zip(self.w, train_example.x):\n",
    "            muiix += w * x\n",
    "        \n",
    "        muii = self.sigmoid(muiix) - train_example.y\n",
    "        lsrmul = (1- 2*self.eta*self.lam)\n",
    "\n",
    "\n",
    "        for ii in range(0, len(self.w)):\n",
    "            if train_example.x[ii] != 0:\n",
    "                self.w[ii] = self.w[ii] - (self.eta*(muii*train_example.x[ii]))\n",
    "                if ii !=0:\n",
    "                    self.w[ii] = self.w[ii] * (pow(lsrmul, (self.iterationdict[ii]) + 1))\n",
    "                    self.iterationdict[ii] = 0\n",
    "            else:\n",
    "                self.iterationdict[ii] += 1\n",
    "            \n",
    "        \n",
    "        "
   ]
  },
  {
   "cell_type": "code",
   "execution_count": 611,
   "metadata": {},
   "outputs": [
    {
     "name": "stderr",
     "output_type": "stream",
     "text": [
      "test_unreg (__main__.TestLogReg) ... ok\n",
      "test_learnrate (__main__.TestLogReg) ... ok\n",
      "\n",
      "----------------------------------------------------------------------\n",
      "Ran 2 tests in 0.016s\n",
      "\n",
      "OK\n"
     ]
    },
    {
     "data": {
      "text/plain": [
       "<matplotlib.figure.Figure at 0x2aec710e080>"
      ]
     },
     "metadata": {},
     "output_type": "display_data"
    }
   ],
   "source": [
    "%run -i tests.py \"part A\""
   ]
  },
  {
   "cell_type": "markdown",
   "metadata": {},
   "source": [
    "The unit tests are located in the script `tests.py` in this directory.  Execute the following cell to call the script and run the tests. "
   ]
  },
  {
   "cell_type": "code",
   "execution_count": 612,
   "metadata": {
    "scrolled": true
   },
   "outputs": [
    {
     "name": "stderr",
     "output_type": "stream",
     "text": [
      "test_reg (__main__.TestLogReg) ... ok\n",
      "\n",
      "----------------------------------------------------------------------\n",
      "Ran 1 test in 0.002s\n",
      "\n",
      "OK\n"
     ]
    }
   ],
   "source": [
    "%run -i tests.py \"part B\""
   ]
  },
  {
   "cell_type": "markdown",
   "metadata": {},
   "source": [
    "**Part B**: After your unregularized updates are working, modify the `sgd_update` function again to perform regularized updates using **Lazy Sparse Regularization**. Note that you should not regularize the bias weight. See the Lecture 4 in-class notebook for a refresher on LSR. **Note**: After implementing LSR, your code should still pass the unit tests for **Part A** when `lam = 0`. \n",
    "\n",
    "We've given you a third unit test in the next cell called `test_reg` based on the simple example of LSR worked out in  the Lecture 4 in-class notebook.  Do not move on to **Problem 3** until your code passes the test. "
   ]
  },
  {
   "cell_type": "code",
   "execution_count": 560,
   "metadata": {},
   "outputs": [
    {
     "name": "stdout",
     "output_type": "stream",
     "text": [
      "Update     0  TrnNLL  688.405  TstNLL   78.190  TrnA 0.698  TstA 0.702\n",
      "Update     5  TrnNLL  905.698  TstNLL  106.518  TrnA 0.552  TstA 0.471\n",
      "Update    10  TrnNLL  818.772  TstNLL   97.424  TrnA 0.578  TstA 0.545\n",
      "Update    15  TrnNLL  966.793  TstNLL  108.249  TrnA 0.544  TstA 0.488\n",
      "Update    20  TrnNLL  760.917  TstNLL   85.421  TrnA 0.624  TstA 0.628\n",
      "Update    25  TrnNLL  551.120  TstNLL   62.694  TrnA 0.746  TstA 0.719\n",
      "Update    30  TrnNLL  552.019  TstNLL   62.319  TrnA 0.765  TstA 0.752\n",
      "Update    35  TrnNLL  526.411  TstNLL   59.644  TrnA 0.775  TstA 0.744\n",
      "Update    40  TrnNLL  460.686  TstNLL   50.111  TrnA 0.816  TstA 0.810\n",
      "Update    45  TrnNLL  459.168  TstNLL   48.443  TrnA 0.799  TstA 0.802\n",
      "Update    50  TrnNLL  415.244  TstNLL   44.684  TrnA 0.819  TstA 0.843\n",
      "Update    55  TrnNLL  408.459  TstNLL   43.888  TrnA 0.831  TstA 0.826\n",
      "Update    60  TrnNLL  396.779  TstNLL   42.845  TrnA 0.835  TstA 0.826\n",
      "Update    65  TrnNLL  384.545  TstNLL   42.522  TrnA 0.836  TstA 0.818\n",
      "Update    70  TrnNLL  380.353  TstNLL   41.979  TrnA 0.841  TstA 0.826\n",
      "Update    75  TrnNLL  368.386  TstNLL   42.335  TrnA 0.845  TstA 0.826\n",
      "Update    80  TrnNLL  360.582  TstNLL   40.521  TrnA 0.856  TstA 0.826\n",
      "Update    85  TrnNLL  358.376  TstNLL   41.866  TrnA 0.838  TstA 0.843\n",
      "Update    90  TrnNLL  339.031  TstNLL   39.567  TrnA 0.861  TstA 0.810\n",
      "Update    95  TrnNLL  359.888  TstNLL   40.828  TrnA 0.846  TstA 0.826\n",
      "Update   100  TrnNLL  387.638  TstNLL   42.150  TrnA 0.840  TstA 0.835\n",
      "Update   105  TrnNLL  354.137  TstNLL   41.578  TrnA 0.850  TstA 0.802\n",
      "Update   110  TrnNLL  351.837  TstNLL   41.368  TrnA 0.851  TstA 0.802\n",
      "Update   115  TrnNLL  323.161  TstNLL   39.355  TrnA 0.866  TstA 0.826\n",
      "Update   120  TrnNLL  310.837  TstNLL   38.469  TrnA 0.872  TstA 0.826\n",
      "Update   125  TrnNLL  309.714  TstNLL   37.977  TrnA 0.876  TstA 0.843\n",
      "Update   130  TrnNLL  303.189  TstNLL   36.145  TrnA 0.879  TstA 0.843\n",
      "Update   135  TrnNLL  300.584  TstNLL   36.985  TrnA 0.866  TstA 0.835\n",
      "Update   140  TrnNLL  301.706  TstNLL   37.767  TrnA 0.867  TstA 0.826\n",
      "Update   145  TrnNLL  291.400  TstNLL   36.682  TrnA 0.880  TstA 0.835\n",
      "Update   150  TrnNLL  293.991  TstNLL   38.769  TrnA 0.876  TstA 0.826\n",
      "Update   155  TrnNLL  299.646  TstNLL   38.003  TrnA 0.877  TstA 0.860\n",
      "Update   160  TrnNLL  271.519  TstNLL   34.616  TrnA 0.894  TstA 0.868\n",
      "Update   165  TrnNLL  278.092  TstNLL   34.346  TrnA 0.893  TstA 0.868\n",
      "Update   170  TrnNLL  285.271  TstNLL   35.620  TrnA 0.888  TstA 0.868\n",
      "Update   175  TrnNLL  264.920  TstNLL   35.371  TrnA 0.893  TstA 0.860\n",
      "Update   180  TrnNLL  262.751  TstNLL   34.812  TrnA 0.894  TstA 0.860\n",
      "Update   185  TrnNLL  259.512  TstNLL   34.011  TrnA 0.894  TstA 0.860\n",
      "Update   190  TrnNLL  263.398  TstNLL   33.825  TrnA 0.898  TstA 0.876\n",
      "Update   195  TrnNLL  270.902  TstNLL   34.166  TrnA 0.899  TstA 0.884\n",
      "Update   200  TrnNLL  277.238  TstNLL   34.429  TrnA 0.889  TstA 0.876\n",
      "Update   205  TrnNLL  290.342  TstNLL   34.987  TrnA 0.881  TstA 0.868\n",
      "Update   210  TrnNLL  257.168  TstNLL   32.467  TrnA 0.899  TstA 0.868\n",
      "Update   215  TrnNLL  268.684  TstNLL   32.620  TrnA 0.894  TstA 0.876\n",
      "Update   220  TrnNLL  248.666  TstNLL   31.303  TrnA 0.903  TstA 0.884\n",
      "Update   225  TrnNLL  236.589  TstNLL   31.237  TrnA 0.903  TstA 0.868\n",
      "Update   230  TrnNLL  227.256  TstNLL   34.867  TrnA 0.914  TstA 0.868\n",
      "Update   235  TrnNLL  227.752  TstNLL   35.003  TrnA 0.915  TstA 0.868\n",
      "Update   240  TrnNLL  216.876  TstNLL   31.252  TrnA 0.920  TstA 0.893\n",
      "Update   245  TrnNLL  215.949  TstNLL   31.416  TrnA 0.922  TstA 0.893\n",
      "Update   250  TrnNLL  215.846  TstNLL   31.366  TrnA 0.922  TstA 0.893\n",
      "Update   255  TrnNLL  213.423  TstNLL   31.262  TrnA 0.922  TstA 0.893\n",
      "Update   260  TrnNLL  212.803  TstNLL   32.071  TrnA 0.923  TstA 0.884\n",
      "Update   265  TrnNLL  204.037  TstNLL   30.027  TrnA 0.922  TstA 0.884\n",
      "Update   270  TrnNLL  204.322  TstNLL   29.503  TrnA 0.922  TstA 0.893\n",
      "Update   275  TrnNLL  202.466  TstNLL   29.814  TrnA 0.923  TstA 0.884\n",
      "Update   280  TrnNLL  201.679  TstNLL   29.707  TrnA 0.923  TstA 0.884\n",
      "Update   285  TrnNLL  230.942  TstNLL   30.609  TrnA 0.909  TstA 0.884\n",
      "Update   290  TrnNLL  201.003  TstNLL   29.239  TrnA 0.924  TstA 0.876\n",
      "Update   295  TrnNLL  200.546  TstNLL   29.399  TrnA 0.923  TstA 0.876\n",
      "Update   300  TrnNLL  200.108  TstNLL   29.337  TrnA 0.923  TstA 0.868\n",
      "Update   305  TrnNLL  210.983  TstNLL   32.379  TrnA 0.926  TstA 0.876\n",
      "Update   310  TrnNLL  208.223  TstNLL   32.167  TrnA 0.924  TstA 0.876\n",
      "Update   315  TrnNLL  205.612  TstNLL   31.801  TrnA 0.928  TstA 0.884\n",
      "Update   320  TrnNLL  195.558  TstNLL   28.809  TrnA 0.933  TstA 0.901\n",
      "Update   325  TrnNLL  194.174  TstNLL   29.824  TrnA 0.933  TstA 0.893\n",
      "Update   330  TrnNLL  194.252  TstNLL   30.606  TrnA 0.929  TstA 0.876\n",
      "Update   335  TrnNLL  195.748  TstNLL   31.727  TrnA 0.930  TstA 0.876\n",
      "Update   340  TrnNLL  182.995  TstNLL   31.280  TrnA 0.937  TstA 0.876\n",
      "Update   345  TrnNLL  215.981  TstNLL   37.173  TrnA 0.917  TstA 0.876\n",
      "Update   350  TrnNLL  204.866  TstNLL   36.163  TrnA 0.922  TstA 0.876\n",
      "Update   355  TrnNLL  185.162  TstNLL   32.638  TrnA 0.934  TstA 0.893\n",
      "Update   360  TrnNLL  180.269  TstNLL   30.295  TrnA 0.935  TstA 0.893\n",
      "Update   365  TrnNLL  174.047  TstNLL   29.184  TrnA 0.936  TstA 0.917\n",
      "Update   370  TrnNLL  175.268  TstNLL   28.164  TrnA 0.935  TstA 0.909\n",
      "Update   375  TrnNLL  170.006  TstNLL   27.961  TrnA 0.939  TstA 0.917\n",
      "Update   380  TrnNLL  169.599  TstNLL   28.654  TrnA 0.938  TstA 0.909\n",
      "Update   385  TrnNLL  169.140  TstNLL   28.497  TrnA 0.939  TstA 0.909\n",
      "Update   390  TrnNLL  167.994  TstNLL   27.917  TrnA 0.942  TstA 0.917\n",
      "Update   395  TrnNLL  166.070  TstNLL   27.568  TrnA 0.941  TstA 0.917\n",
      "Update   400  TrnNLL  165.629  TstNLL   27.515  TrnA 0.942  TstA 0.917\n",
      "Update   405  TrnNLL  165.562  TstNLL   27.516  TrnA 0.942  TstA 0.917\n",
      "Update   410  TrnNLL  165.686  TstNLL   27.519  TrnA 0.943  TstA 0.917\n",
      "Update   415  TrnNLL  173.656  TstNLL   27.708  TrnA 0.932  TstA 0.909\n",
      "Update   420  TrnNLL  174.639  TstNLL   27.775  TrnA 0.932  TstA 0.909\n",
      "Update   425  TrnNLL  194.684  TstNLL   29.759  TrnA 0.927  TstA 0.909\n",
      "Update   430  TrnNLL  180.287  TstNLL   27.755  TrnA 0.933  TstA 0.917\n",
      "Update   435  TrnNLL  183.488  TstNLL   28.093  TrnA 0.935  TstA 0.917\n",
      "Update   440  TrnNLL  182.197  TstNLL   28.071  TrnA 0.936  TstA 0.926\n",
      "Update   445  TrnNLL  175.847  TstNLL   27.932  TrnA 0.935  TstA 0.909\n",
      "Update   450  TrnNLL  169.222  TstNLL   27.405  TrnA 0.937  TstA 0.901\n",
      "Update   455  TrnNLL  150.195  TstNLL   27.320  TrnA 0.953  TstA 0.917\n",
      "Update   460  TrnNLL  148.701  TstNLL   27.767  TrnA 0.953  TstA 0.934\n",
      "Update   465  TrnNLL  148.640  TstNLL   28.195  TrnA 0.951  TstA 0.926\n",
      "Update   470  TrnNLL  145.183  TstNLL   27.930  TrnA 0.955  TstA 0.926\n",
      "Update   475  TrnNLL  136.514  TstNLL   27.848  TrnA 0.954  TstA 0.909\n",
      "Update   480  TrnNLL  136.203  TstNLL   27.828  TrnA 0.957  TstA 0.909\n",
      "Update   485  TrnNLL  136.155  TstNLL   27.749  TrnA 0.957  TstA 0.909\n",
      "Update   490  TrnNLL  135.587  TstNLL   27.272  TrnA 0.956  TstA 0.909\n",
      "Update   495  TrnNLL  136.497  TstNLL   27.737  TrnA 0.956  TstA 0.917\n",
      "Update   500  TrnNLL  133.250  TstNLL   27.190  TrnA 0.957  TstA 0.917\n",
      "Update   505  TrnNLL  133.335  TstNLL   27.218  TrnA 0.957  TstA 0.917\n",
      "Update   510  TrnNLL  132.589  TstNLL   26.855  TrnA 0.957  TstA 0.917\n",
      "Update   515  TrnNLL  134.045  TstNLL   27.027  TrnA 0.955  TstA 0.909\n",
      "Update   520  TrnNLL  136.010  TstNLL   28.315  TrnA 0.955  TstA 0.917\n",
      "Update   525  TrnNLL  132.331  TstNLL   27.570  TrnA 0.957  TstA 0.926\n",
      "Update   530  TrnNLL  133.754  TstNLL   27.667  TrnA 0.957  TstA 0.917\n",
      "Update   535  TrnNLL  135.657  TstNLL   28.397  TrnA 0.954  TstA 0.917\n",
      "Update   540  TrnNLL  134.847  TstNLL   28.417  TrnA 0.956  TstA 0.917\n",
      "Update   545  TrnNLL  140.905  TstNLL   30.801  TrnA 0.949  TstA 0.909\n",
      "Update   550  TrnNLL  137.270  TstNLL   29.963  TrnA 0.952  TstA 0.917\n",
      "Update   555  TrnNLL  136.662  TstNLL   29.847  TrnA 0.952  TstA 0.917\n",
      "Update   560  TrnNLL  136.325  TstNLL   29.828  TrnA 0.952  TstA 0.917\n",
      "Update   565  TrnNLL  119.029  TstNLL   27.342  TrnA 0.962  TstA 0.926\n",
      "Update   570  TrnNLL  118.165  TstNLL   27.415  TrnA 0.961  TstA 0.926\n",
      "Update   575  TrnNLL  118.034  TstNLL   27.350  TrnA 0.961  TstA 0.926\n",
      "Update   580  TrnNLL  128.029  TstNLL   27.954  TrnA 0.958  TstA 0.917\n",
      "Update   585  TrnNLL  124.466  TstNLL   28.060  TrnA 0.958  TstA 0.909\n",
      "Update   590  TrnNLL  121.280  TstNLL   28.031  TrnA 0.961  TstA 0.909\n",
      "Update   595  TrnNLL  121.940  TstNLL   28.712  TrnA 0.957  TstA 0.917\n"
     ]
    },
    {
     "name": "stdout",
     "output_type": "stream",
     "text": [
      "Update   600  TrnNLL  121.927  TstNLL   29.034  TrnA 0.958  TstA 0.926\n",
      "Update   605  TrnNLL  122.448  TstNLL   29.135  TrnA 0.958  TstA 0.926\n",
      "Update   610  TrnNLL  124.221  TstNLL   29.631  TrnA 0.954  TstA 0.917\n",
      "Update   615  TrnNLL  139.443  TstNLL   28.596  TrnA 0.956  TstA 0.917\n",
      "Update   620  TrnNLL  191.461  TstNLL   32.745  TrnA 0.943  TstA 0.893\n",
      "Update   625  TrnNLL  185.229  TstNLL   31.909  TrnA 0.947  TstA 0.909\n",
      "Update   630  TrnNLL  182.750  TstNLL   30.806  TrnA 0.948  TstA 0.909\n",
      "Update   635  TrnNLL  183.816  TstNLL   31.411  TrnA 0.948  TstA 0.909\n",
      "Update   640  TrnNLL  186.747  TstNLL   33.244  TrnA 0.947  TstA 0.901\n",
      "Update   645  TrnNLL  186.673  TstNLL   33.228  TrnA 0.947  TstA 0.901\n",
      "Update   650  TrnNLL  175.775  TstNLL   30.309  TrnA 0.951  TstA 0.909\n",
      "Update   655  TrnNLL  187.617  TstNLL   32.078  TrnA 0.947  TstA 0.893\n",
      "Update   660  TrnNLL  174.548  TstNLL   29.788  TrnA 0.953  TstA 0.909\n",
      "Update   665  TrnNLL  183.312  TstNLL   30.882  TrnA 0.951  TstA 0.909\n",
      "Update   670  TrnNLL  192.019  TstNLL   32.872  TrnA 0.941  TstA 0.893\n",
      "Update   675  TrnNLL  164.625  TstNLL   27.333  TrnA 0.956  TstA 0.917\n",
      "Update   680  TrnNLL  163.635  TstNLL   26.945  TrnA 0.956  TstA 0.917\n",
      "Update   685  TrnNLL  156.140  TstNLL   24.259  TrnA 0.965  TstA 0.917\n",
      "Update   690  TrnNLL  164.412  TstNLL   27.282  TrnA 0.954  TstA 0.917\n",
      "Update   695  TrnNLL  165.361  TstNLL   27.563  TrnA 0.953  TstA 0.917\n",
      "Update   700  TrnNLL  163.473  TstNLL   26.997  TrnA 0.955  TstA 0.917\n",
      "Update   705  TrnNLL  163.096  TstNLL   26.908  TrnA 0.955  TstA 0.917\n",
      "Update   710  TrnNLL  153.230  TstNLL   24.944  TrnA 0.961  TstA 0.909\n",
      "Update   715  TrnNLL  153.041  TstNLL   24.986  TrnA 0.961  TstA 0.909\n",
      "Update   720  TrnNLL  151.583  TstNLL   24.888  TrnA 0.964  TstA 0.917\n",
      "Update   725  TrnNLL  150.820  TstNLL   24.828  TrnA 0.960  TstA 0.917\n",
      "Update   730  TrnNLL  149.838  TstNLL   24.562  TrnA 0.964  TstA 0.917\n",
      "Update   735  TrnNLL  150.147  TstNLL   23.550  TrnA 0.966  TstA 0.917\n",
      "Update   740  TrnNLL  151.302  TstNLL   23.256  TrnA 0.964  TstA 0.909\n",
      "Update   745  TrnNLL  148.532  TstNLL   22.361  TrnA 0.966  TstA 0.917\n",
      "Update   750  TrnNLL  149.267  TstNLL   22.375  TrnA 0.965  TstA 0.917\n",
      "Update   755  TrnNLL  149.856  TstNLL   22.295  TrnA 0.964  TstA 0.917\n",
      "Update   760  TrnNLL  144.768  TstNLL   21.410  TrnA 0.967  TstA 0.917\n",
      "Update   765  TrnNLL  140.454  TstNLL   21.010  TrnA 0.969  TstA 0.909\n",
      "Update   770  TrnNLL  145.347  TstNLL   21.848  TrnA 0.967  TstA 0.917\n",
      "Update   775  TrnNLL  148.383  TstNLL   22.683  TrnA 0.963  TstA 0.926\n",
      "Update   780  TrnNLL  149.056  TstNLL   22.540  TrnA 0.964  TstA 0.934\n",
      "Update   785  TrnNLL  137.639  TstNLL   20.274  TrnA 0.969  TstA 0.926\n",
      "Update   790  TrnNLL  131.322  TstNLL   20.105  TrnA 0.970  TstA 0.926\n",
      "Update   795  TrnNLL  130.872  TstNLL   19.997  TrnA 0.970  TstA 0.934\n",
      "Update   800  TrnNLL  130.955  TstNLL   19.655  TrnA 0.968  TstA 0.934\n",
      "Update   805  TrnNLL  130.179  TstNLL   19.462  TrnA 0.968  TstA 0.926\n",
      "Update   810  TrnNLL  130.107  TstNLL   19.453  TrnA 0.968  TstA 0.926\n",
      "Update   815  TrnNLL  133.604  TstNLL   21.061  TrnA 0.969  TstA 0.934\n",
      "Update   820  TrnNLL  132.053  TstNLL   20.746  TrnA 0.970  TstA 0.934\n",
      "Update   825  TrnNLL  132.963  TstNLL   21.741  TrnA 0.972  TstA 0.926\n",
      "Update   830  TrnNLL  132.901  TstNLL   21.738  TrnA 0.972  TstA 0.926\n",
      "Update   835  TrnNLL  138.944  TstNLL   20.849  TrnA 0.965  TstA 0.934\n",
      "Update   840  TrnNLL  141.413  TstNLL   21.274  TrnA 0.965  TstA 0.934\n",
      "Update   845  TrnNLL  129.032  TstNLL   19.277  TrnA 0.970  TstA 0.926\n",
      "Update   850  TrnNLL  117.492  TstNLL   18.375  TrnA 0.975  TstA 0.942\n",
      "Update   855  TrnNLL  117.523  TstNLL   18.383  TrnA 0.975  TstA 0.942\n",
      "Update   860  TrnNLL  116.544  TstNLL   18.337  TrnA 0.977  TstA 0.942\n",
      "Update   865  TrnNLL  116.610  TstNLL   18.320  TrnA 0.976  TstA 0.942\n",
      "Update   870  TrnNLL  114.466  TstNLL   18.477  TrnA 0.980  TstA 0.934\n",
      "Update   875  TrnNLL  114.185  TstNLL   18.357  TrnA 0.980  TstA 0.934\n",
      "Update   880  TrnNLL  108.583  TstNLL   18.715  TrnA 0.980  TstA 0.934\n",
      "Update   885  TrnNLL  107.676  TstNLL   18.115  TrnA 0.979  TstA 0.934\n",
      "Update   890  TrnNLL  104.413  TstNLL   18.195  TrnA 0.982  TstA 0.934\n",
      "Update   895  TrnNLL  104.018  TstNLL   18.118  TrnA 0.983  TstA 0.934\n",
      "Update   900  TrnNLL  103.893  TstNLL   18.087  TrnA 0.983  TstA 0.934\n",
      "Update   905  TrnNLL  103.186  TstNLL   18.042  TrnA 0.982  TstA 0.934\n",
      "Update   910  TrnNLL  102.278  TstNLL   17.715  TrnA 0.982  TstA 0.934\n",
      "Update   915  TrnNLL  101.775  TstNLL   17.497  TrnA 0.981  TstA 0.934\n",
      "Update   920  TrnNLL  101.666  TstNLL   17.480  TrnA 0.981  TstA 0.934\n",
      "Update   925  TrnNLL  100.320  TstNLL   17.357  TrnA 0.982  TstA 0.934\n",
      "Update   930  TrnNLL   99.535  TstNLL   17.147  TrnA 0.982  TstA 0.934\n",
      "Update   935  TrnNLL   99.580  TstNLL   16.985  TrnA 0.982  TstA 0.934\n",
      "Update   940  TrnNLL   99.440  TstNLL   16.920  TrnA 0.982  TstA 0.934\n",
      "Update   945  TrnNLL  100.014  TstNLL   16.803  TrnA 0.979  TstA 0.934\n",
      "Update   950  TrnNLL   99.809  TstNLL   16.774  TrnA 0.979  TstA 0.934\n",
      "Update   955  TrnNLL  100.271  TstNLL   16.821  TrnA 0.979  TstA 0.934\n",
      "Update   960  TrnNLL   99.779  TstNLL   16.715  TrnA 0.979  TstA 0.934\n",
      "Update   965  TrnNLL   97.785  TstNLL   16.913  TrnA 0.981  TstA 0.950\n",
      "Update   970  TrnNLL   98.420  TstNLL   16.958  TrnA 0.981  TstA 0.942\n",
      "Update   975  TrnNLL   94.925  TstNLL   16.828  TrnA 0.983  TstA 0.950\n",
      "Update   980  TrnNLL   93.775  TstNLL   16.533  TrnA 0.982  TstA 0.950\n",
      "Update   985  TrnNLL   92.613  TstNLL   15.971  TrnA 0.983  TstA 0.950\n",
      "Update   990  TrnNLL   92.074  TstNLL   15.923  TrnA 0.983  TstA 0.950\n",
      "Update   995  TrnNLL   91.527  TstNLL   15.811  TrnA 0.983  TstA 0.942\n",
      "Update  1000  TrnNLL   90.455  TstNLL   15.778  TrnA 0.988  TstA 0.942\n",
      "Update  1005  TrnNLL   90.481  TstNLL   15.794  TrnA 0.987  TstA 0.942\n",
      "Update  1010  TrnNLL   95.835  TstNLL   15.786  TrnA 0.986  TstA 0.950\n",
      "Update  1015  TrnNLL   91.301  TstNLL   15.006  TrnA 0.988  TstA 0.950\n",
      "Update  1020  TrnNLL   84.847  TstNLL   13.862  TrnA 0.990  TstA 0.950\n",
      "Update  1025  TrnNLL   84.346  TstNLL   13.434  TrnA 0.989  TstA 0.950\n",
      "Update  1030  TrnNLL   83.836  TstNLL   13.297  TrnA 0.988  TstA 0.959\n",
      "Update  1035  TrnNLL   83.836  TstNLL   13.268  TrnA 0.988  TstA 0.967\n",
      "Update  1040  TrnNLL   84.320  TstNLL   13.978  TrnA 0.990  TstA 0.950\n",
      "Update  1045  TrnNLL   84.221  TstNLL   13.938  TrnA 0.990  TstA 0.950\n",
      "Update  1050  TrnNLL   83.865  TstNLL   13.175  TrnA 0.989  TstA 0.967\n",
      "Update  1055  TrnNLL   82.490  TstNLL   13.519  TrnA 0.990  TstA 0.950\n",
      "Update  1060  TrnNLL   82.491  TstNLL   13.493  TrnA 0.990  TstA 0.950\n",
      "Update  1065  TrnNLL   82.255  TstNLL   13.548  TrnA 0.990  TstA 0.950\n"
     ]
    }
   ],
   "source": [
    "lr = LogReg(train_set, test_set, lam=0, eta=0.1)\n",
    "lr.train(isVerbose=True)\n",
    "\n"
   ]
  },
  {
   "cell_type": "markdown",
   "metadata": {},
   "source": [
    "### [10 points] Problem 3: Hyperparameter Tuning \n",
    "***\n",
    "\n",
    "**Part A**: Perform a systematic study of the effect of the regularization parameter on the accuracy of your classifier on the test set.  Which choice of `lam` seems to do the best?  Justify your conclusion with some kind of graphic. "
   ]
  },
  {
   "cell_type": "code",
   "execution_count": 561,
   "metadata": {},
   "outputs": [
    {
     "name": "stdout",
     "output_type": "stream",
     "text": [
      "[0.9421, 0.9339, 0.9587, 0.9752, 0.9339, 0.9091, 0.9174, 0.8926, 0.8678, 0.8843, 0.7851, 0.7107, 0.7355, 0.5041, 0.5702, 0.5785, 0.7438]\n"
     ]
    },
    {
     "data": {
      "image/png": "[encoded data removed]",
      "text/plain": [
       "<matplotlib.figure.Figure at 0x2aec93fd6d8>"
      ]
     },
     "metadata": {},
     "output_type": "display_data"
    },
    {
     "name": "stdout",
     "output_type": "stream",
     "text": [
      "best lambda value 0.0005\n"
     ]
    }
   ],
   "source": [
    "lams = [0.00001, 0.00005, 0.0001, 0.0005, 0.001, 0.005, 0.01, 0.05, 0.1, 0.2, 0.3, 0.4, 0.5, 0.6, 0.7, 0.8, 0.9]\n",
    "accuracy =[]\n",
    "for lam in lams:\n",
    "    lr = LogReg(train_set, test_set, lam, eta = 0.1)\n",
    "    lr.train()\n",
    "    NLL, acc = lr.compute_progress(test_set)\n",
    "    accuracy.append(round(acc, 4))\n",
    "\n",
    "print(accuracy)\n",
    "plt.xlim(0, lams[-1])\n",
    "plt.ylim(min(accuracy),1.0)\n",
    "plt.xlabel(\"Lambda value\")\n",
    "plt.ylabel(\"Accuracy\")\n",
    "plt.title(\"Lambda vs Accuracy\")\n",
    "plt.plot(lams, accuracy)\n",
    "plt.show()\n",
    "\n",
    "bestlam = lams[accuracy.index(max(accuracy))]\n",
    "print(\"best lambda value\",bestlam)\n"
   ]
  },
  {
   "cell_type": "markdown",
   "metadata": {},
   "source": [
    "**Part B**: For the value of `lam` chosen in **Part A** perform a systematic study of the choice of learning rate on the speed of convergence SGD.  Which learning rate seems to give the fastest convergence?  Justify your conclusion with some kind of graphic. "
   ]
  },
  {
   "cell_type": "code",
   "execution_count": 606,
   "metadata": {
    "scrolled": false
   },
   "outputs": [
    {
     "name": "stdout",
     "output_type": "stream",
     "text": [
      "Converged for 742.349891737 742.346644868 742.344353489\n",
      "Converged for 742.332513119 742.321317324 742.34085585\n",
      "Converged for 742.239599249 742.239163717 742.217602075\n",
      "Converged for 742.155968713 741.625848109 741.594401351\n",
      "Converged for 741.621440619 741.61725239 741.583891511\n",
      "Converged for 730.476199943 729.797655696 729.460154231\n",
      "Converged for 648.638495909 647.932891611 647.698667469\n",
      "Converged for 591.329691891 591.261106421 591.702357999\n",
      "Converged for 569.544590585 569.926386398 569.936547837\n",
      "Converged for 761.626339544 760.877291595 760.394862749\n",
      "Converged for 698.59913552 698.865981502 698.27309221\n",
      "eta_value vs eta_iterations {1e-05: 4, 5e-05: 4, 0.0001: 4, 0.0005: 4, 0.001: 4, 0.005: 9, 0.01: 54, 0.05: 170, 0.1: 205, 0.3: 2085, 0.4: 588}\n"
     ]
    }
   ],
   "source": [
    "eta_vals = [0.00001, 0.00005, 0.0001, 0.0005, 0.001, 0.005, 0.01, 0.05, 0.1, 0.2, 0.3, 0.4, 0.5, 0.6, 0.7, 0.8, 0.9]\n",
    "conv_threshold = 0.8\n",
    "iterations =0\n",
    "prevnll  = 0\n",
    "prevprevnll =0\n",
    "train_nll = 0\n",
    "eta_iterations = {}\n",
    "\n",
    "\n",
    "def Convergence(prevprevnll, prevnll, train_nll, conv_threshold):\n",
    "    if(abs(prevnll - prevprevnll) < conv_threshold and abs(prevnll - train_nll) < conv_threshold ):\n",
    "        return True\n",
    "    else:\n",
    "        return False\n",
    "    \n",
    "for eta in eta_vals:\n",
    "    lr = LogReg(train_set, test_set, lam=0.5, eta = eta)\n",
    "    i=0\n",
    "    np.random.shuffle(lr.train_set)\n",
    "    # loop over each training example\n",
    "\n",
    "    for ex in lr.train_set:\n",
    "        # perform SGD update of weights \n",
    "        lr.sgd_update(ex, iterations)\n",
    "        prevprevnll = prevnll \n",
    "        prevnll = train_nll\n",
    "        train_nll, train_acc = lr.compute_progress(lr.train_set)\n",
    "\n",
    "        if(iterations > 3):\n",
    "            if Convergence(prevprevnll, prevnll, train_nll, conv_threshold):\n",
    "                i=11 #come out of loop\n",
    "                eta_iterations[eta] = iterations\n",
    "                iterations =0\n",
    "                break\n",
    "                    \n",
    "        iterations += 1\n",
    "print(\"eta_value vs eta_iterations\", eta_iterations)\n",
    "\n",
    "\n",
    "##################### Eta_val vs Accuracy################\n",
    "\n"
   ]
  },
  {
   "cell_type": "markdown",
   "metadata": {},
   "source": [
    "In the above, the convergence function is kind of approximate. If we optimize it and with a accurate threshold, the above code would show the difference of iterations with respect to changing eta values appropriately."
   ]
  },
  {
   "cell_type": "code",
   "execution_count": 609,
   "metadata": {},
   "outputs": [
    {
     "name": "stdout",
     "output_type": "stream",
     "text": [
      "[0.9091, 0.9174, 0.9174, 0.9504, 0.9256, 0.9421, 0.9421, 0.9339, 0.9256, 0.9339, 0.9174, 0.9256, 0.8926, 0.8264, 0.9174, 0.9174, 0.8926]\n"
     ]
    },
    {
     "data": {
      "image/png": "[encoded data removed]",
      "text/plain": [
       "<matplotlib.figure.Figure at 0x2aec710e2b0>"
      ]
     },
     "metadata": {},
     "output_type": "display_data"
    },
    {
     "name": "stdout",
     "output_type": "stream",
     "text": [
      "best eta value 0.0005\n"
     ]
    }
   ],
   "source": [
    "eta_vals = [0.00001, 0.00005, 0.0001, 0.0005, 0.001, 0.005, 0.01, 0.05, 0.1, 0.2, 0.3, 0.4, 0.5, 0.6, 0.7, 0.8, 0.9]\n",
    "accuracy =[]\n",
    "for eta in eta_vals:\n",
    "    lr = LogReg(train_set, test_set, bestlam, eta)\n",
    "    lr.train()\n",
    "    NLL, acc = lr.compute_progress(test_set)\n",
    "    accuracy.append(round(acc, 4))\n",
    "\n",
    "print(accuracy)\n",
    "plt.xlim(0, eta_vals[-1])\n",
    "plt.ylim(min(accuracy),1.0)\n",
    "plt.xlabel(\"eta value\")\n",
    "plt.ylabel(\"Accuracy\")\n",
    "plt.title(\"eta vs Accuracy\")\n",
    "plt.plot(eta_vals, accuracy)\n",
    "plt.show()\n",
    "\n",
    "besteta = eta_vals[accuracy.index(max(accuracy))]\n",
    "print(\"best eta value\",besteta)"
   ]
  },
  {
   "cell_type": "markdown",
   "metadata": {},
   "source": [
    "### [10 points] Problem 4: Identifying Predictive and Non-Predictive Words \n",
    "***\n",
    "\n",
    "**Part A**: Find the top 10 words that are the best predictors for each class.  Explain mathematically how you identified them and show any code that you used to find them. "
   ]
  },
  {
   "cell_type": "markdown",
   "metadata": {
    "collapsed": true
   },
   "source": [
    "I think, the words with higher value of weights would have higher impact to class 1. Hence, those would be the best predictors due to higher impact. In order to get the top 10 words, we have to find the words with top 10 larger weights. Similarly the 10 best predictors for class 0 would be the words with lowest 10 weights."
   ]
  },
  {
   "cell_type": "code",
   "execution_count": 549,
   "metadata": {},
   "outputs": [
    {
     "name": "stdout",
     "output_type": "stream",
     "text": [
      "Best predictors for motorcycle ['bike', 'like', 'deductible', 'bikes', 'ca', 'ticket', 'berkeley', 'tire', 'mil', 'old']\n",
      "Best predictors for automobiless ['side', 'clothing', 'cars', 'left', 'reply', 'hp', 'day', 'sweden', 'dallas', 'les']\n"
     ]
    }
   ],
   "source": [
    "lr = LogReg(train_set, test_set, 0.01, 0.5)\n",
    "lr.train()\n",
    "best_positive_class_predictors =[]\n",
    "best_negative_class_predictors = []\n",
    "weights = list(lr.w)\n",
    "descendingweights = sorted(weights, reverse=True)\n",
    "ascendingweights = sorted(weights)\n",
    "toptenWeights = descendingweights[:10]\n",
    "lowesttenweights = ascendingweights[:10]\n",
    "\n",
    "for weight in toptenWeights:\n",
    "    best_positive_class_predictors.append(vocab[weights.index(weight)])\n",
    "    \n",
    "for weight in lowesttenweights:\n",
    "    best_negative_class_predictors.append(vocab[weights.index(weight)])\n",
    "    \n",
    "print(\"Best predictors for motorcycle\", best_positive_class_predictors)\n",
    "print(\"Best predictors for automobiless\", best_negative_class_predictors)"
   ]
  },
  {
   "cell_type": "markdown",
   "metadata": {},
   "source": [
    "**Part B**: Find the 10 words that are the worst predictors for class.  Explain mathematically how you identified them and show any code that you used to find them. "
   ]
  },
  {
   "cell_type": "markdown",
   "metadata": {
    "collapsed": true
   },
   "source": [
    "Same concept applies here, the worst predictors for class have values which are in the middle of the sorted weights, As they can be predicted as class 0 or 1. Hence, once we sort the weighted values, the center values are the ones which are worst predictor.\n"
   ]
  },
  {
   "cell_type": "code",
   "execution_count": 552,
   "metadata": {},
   "outputs": [
    {
     "name": "stdout",
     "output_type": "stream",
     "text": [
      "Worst predictors for motorcycle ['tolerable', 'hired', 'becomes', 'tuesday', 'camber', 'sizes', 'corvettes', 'driveways', 'expenses', 'towing']\n",
      "Worst predictors for automobiless ['probes', 'reads', 'swap', 'winters', 'qualities', 'grip', 'aiming', 'underside', 'eagles', 'goodyear']\n"
     ]
    }
   ],
   "source": [
    "mid = int(len(ascendingweights)/2)\n",
    "worst_positive_class_predictors = []\n",
    "worst_negative_class_predictors = []\n",
    "\n",
    "worstnegativeweights = ascendingweights[mid - 10:mid]\n",
    "worstpositiveweights = ascendingweights[mid :mid + 10]\n",
    "\n",
    "for weight in worstpositiveweights:\n",
    "    worst_positive_class_predictors.append(vocab[weights.index(weight)])\n",
    "    \n",
    "for weight in worstnegativeweights:\n",
    "    worst_negative_class_predictors.append(vocab[weights.index(weight)])\n",
    "    \n",
    "print(\"Worst predictors for motorcycle\", worst_positive_class_predictors)\n",
    "print(\"Worst predictors for automobiless\", worst_negative_class_predictors)"
   ]
  },
  {
   "cell_type": "code",
   "execution_count": null,
   "metadata": {
    "collapsed": true
   },
   "outputs": [],
   "source": []
  }
 ],
 "metadata": {
  "kernelspec": {
   "display_name": "Python 3",
   "language": "python",
   "name": "python3"
  },
  "language_info": {
   "codemirror_mode": {
    "name": "ipython",
    "version": 3
   },
   "file_extension": ".py",
   "mimetype": "text/x-python",
   "name": "python",
   "nbconvert_exporter": "python",
   "pygments_lexer": "ipython3",
   "version": "3.6.3"
  }
 },
 "nbformat": 4,
 "nbformat_minor": 2
}
